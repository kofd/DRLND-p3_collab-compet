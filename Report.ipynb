{
 "cells": [
  {
   "cell_type": "markdown",
   "metadata": {},
   "source": [
    "# Collaboration and Competition\n",
    "\n",
    "This is the report for the Collaboration and Competition lab on the Udacity DRLND. It trains an agent using a DDPG model.\n",
    "\n",
    "## 1. Install and Start the Environment"
   ]
  },
  {
   "cell_type": "code",
   "execution_count": 1,
   "metadata": {},
   "outputs": [
    {
     "name": "stderr",
     "output_type": "stream",
     "text": [
      "INFO:unityagents:\n",
      "'Academy' started successfully!\n",
      "Unity Academy name: Academy\n",
      "        Number of Brains: 1\n",
      "        Number of External Brains : 1\n",
      "        Lesson number : 0\n",
      "        Reset Parameters :\n",
      "\t\t\n",
      "Unity brain name: TennisBrain\n",
      "        Number of Visual Observations (per agent): 0\n",
      "        Vector Observation space type: continuous\n",
      "        Vector Observation space size (per agent): 8\n",
      "        Number of stacked Vector Observation: 3\n",
      "        Vector Action space type: continuous\n",
      "        Vector Action space size (per agent): 2\n",
      "        Vector Action descriptions: , \n"
     ]
    },
    {
     "name": "stdout",
     "output_type": "stream",
     "text": [
      "Number of agents: 2\n",
      "Size of each action: 2\n",
      "There are 2 agents. Each observes a state with length: 24\n"
     ]
    }
   ],
   "source": [
    "from unityagents import UnityEnvironment\n",
    "import numpy as np\n",
    "\n",
    "env = UnityEnvironment(file_name='Tennis.app')\n",
    "\n",
    "# get the default brain\n",
    "brain_name = env.brain_names[0]\n",
    "brain = env.brains[brain_name]\n",
    "\n",
    "# reset the environment\n",
    "env_info = env.reset(train_mode=False)[brain_name]\n",
    "\n",
    "# number of agents\n",
    "num_agents = len(env_info.agents)\n",
    "print('Number of agents:', num_agents)\n",
    "\n",
    "# size of each action\n",
    "action_size = brain.vector_action_space_size\n",
    "print('Size of each action:', action_size)\n",
    "\n",
    "# examine the state space \n",
    "states = env_info.vector_observations\n",
    "state_size = states.shape[1]\n",
    "print('There are {} agents. Each observes a state with length: {}'.format(states.shape[0], state_size))\n"
   ]
  },
  {
   "cell_type": "markdown",
   "metadata": {},
   "source": [
    "## Train the Model\n",
    "\n",
    "This environment has a single agent playing against a clone of itself. The agent is a ddpg agent taken from ddpg2.py. The actor network is a 3 layer fully connected model with batch normalization and the critic is a 4 layer fully connected model. The state space is a concatenation of the current agent's state and the opposing agent's state. The replay buffer is prioritized and set to a small value to encourage learning from the most recent opponent's behavior. Gamma is set to 1 so that it prioritizes actions that result in easy situations for the opponent. A noise value is added to the environment to give additional exploration in early cases. The agent is trained"
   ]
  },
  {
   "cell_type": "code",
   "execution_count": 2,
   "metadata": {
    "scrolled": false
   },
   "outputs": [
    {
     "name": "stdout",
     "output_type": "stream",
     "text": [
      "Episode 100\tAverage Score: 0.01 (0.00)\n",
      "Episode 200\tAverage Score: 0.02 (0.03)\n",
      "Episode 300\tAverage Score: 0.08 (0.11)\n",
      "Episode 400\tAverage Score: 0.33 (0.43)\n",
      "Episode 434\tAverage Score: 0.50 (0.88)\n",
      "Environment fit in 334 episodes!\tAverage Score: 0.50\n"
     ]
    }
   ],
   "source": [
    "from ddpg2 import Agent\n",
    "from collections import deque\n",
    "import torch\n",
    "from torch import optim\n",
    "from time import time, sleep\n",
    "\n",
    "\n",
    "eps = 1.\n",
    "eps_decay = 0.99\n",
    "gamma = 1.\n",
    "n_episodes = 200000\n",
    "max_t = 2000\n",
    "agent = Agent(state_size*2, action_size,\n",
    "              buffer_size=int(2e4), batch_size=128)\n",
    "\n",
    "# keep track of progress    \n",
    "scores = []                        # list containing scores from each episode\n",
    "scores_window = deque(maxlen=100) \n",
    "adj_scores_window = None\n",
    "best_score = 0.\n",
    "for i_episode in range(1, n_episodes+1):\n",
    "    env_info = env.reset(train_mode=True)[brain_name]\n",
    "    state = env_info.vector_observations               # get the current state\n",
    "    state = np.concatenate([state, state[::-1]], 1)\n",
    "    score = np.zeros(2, dtype=float)\n",
    "    adj_score = np.zeros(len(state), dtype=float)\n",
    "    for t in range(max_t):\n",
    "        action = agent.act(state, eps)\n",
    "        env_info = env.step(action)[brain_name]        # send the action to the environment\n",
    "        next_state = env_info.vector_observations      # get the next state\n",
    "        next_state = np.concatenate([next_state, next_state[::-1]], 1)\n",
    "        done = env_info.local_done                    # see if episode has finished\n",
    "        reward = env_info.rewards                    # get the reward\n",
    "        adj_reward = np.array(reward)\n",
    "        agent.step(state, action, adj_reward, next_state, done)\n",
    "\n",
    "        state = next_state\n",
    "        score += reward\n",
    "        adj_score += adj_reward#[0]\n",
    "        if any(done):\n",
    "            break \n",
    "    for _ in range(20):\n",
    "        agent.learn(gamma, False)\n",
    "    eps *= eps_decay\n",
    "    if eps < 0.01:\n",
    "        eps = 0.\n",
    "    scores_window.append(np.max(score))       # save most recent score\n",
    "    adj_scores_window = np.max(adj_score) if adj_scores_window is None else 0.95 * adj_scores_window + 0.05 * np.max(adj_score)\n",
    "    if adj_scores_window > best_score:\n",
    "        torch.save(agent.actor_local.state_dict(), 'checkpoint.pth')\n",
    "    scores.append(score)              # save most recent score\n",
    "    print('\\rEpisode {}\\tAverage Score: {:.2f} ({:.2f})'.format(i_episode, np.mean(scores_window), np.mean(adj_scores_window)), end=\"\")\n",
    "    if i_episode % 100 == 0:\n",
    "        print('\\rEpisode {}\\tAverage Score: {:.2f} ({:.2f})'.format(i_episode, np.mean(scores_window), np.mean(adj_scores_window)))\n",
    "    if np.mean(scores_window) > 0.5:\n",
    "        print('\\nEnvironment fit in {:d} episodes!\\tAverage Score: {:.2f}'.format(i_episode-100, np.mean(scores_window)))\n",
    "        break"
   ]
  },
  {
   "cell_type": "code",
   "execution_count": 3,
   "metadata": {},
   "outputs": [
    {
     "data": {
      "text/plain": [
       "OrderedDict([('fc1.weight',\n",
       "              tensor([[-0.0139, -0.0815, -0.0020,  ...,  0.1481, -0.0272,  0.0555],\n",
       "                      [ 0.0238, -0.0769,  0.0353,  ...,  0.1631, -0.0080,  0.0563],\n",
       "                      [-0.0170, -0.1584, -0.0012,  ...,  0.0724, -0.0335, -0.0602],\n",
       "                      ...,\n",
       "                      [ 0.0430, -0.1262, -0.0437,  ...,  0.0124,  0.0208,  0.0368],\n",
       "                      [-0.0261,  0.1367, -0.0130,  ..., -0.0062, -0.0969,  0.0504],\n",
       "                      [-0.0053, -0.1047, -0.0654,  ...,  0.1175,  0.0525, -0.0479]])),\n",
       "             ('fc1.bias',\n",
       "              tensor([ 0.0065,  0.1202,  0.1281,  0.1196, -0.0566,  0.0869, -0.0517, -0.0211,\n",
       "                       0.0572, -0.1196, -0.0595,  0.0943, -0.1499, -0.0034, -0.0979,  0.1339,\n",
       "                      -0.1348, -0.0620, -0.0849, -0.1170,  0.1500,  0.0903, -0.1132, -0.1245,\n",
       "                      -0.0199, -0.1040,  0.1333,  0.1662, -0.1356, -0.0464, -0.0837,  0.0141,\n",
       "                       0.0573,  0.1145,  0.0935,  0.0501, -0.1049,  0.1352,  0.1066, -0.0677,\n",
       "                       0.0153, -0.0070,  0.0472,  0.0426, -0.0270, -0.0031,  0.0855, -0.0195,\n",
       "                      -0.0526,  0.0248,  0.1032,  0.0583, -0.0708,  0.1434, -0.0267, -0.0519,\n",
       "                       0.1243,  0.0831, -0.0446, -0.0089, -0.1373, -0.0054,  0.0359, -0.0690,\n",
       "                       0.0738,  0.1257,  0.0196, -0.0979,  0.0704,  0.1006, -0.0373, -0.0944,\n",
       "                       0.0082, -0.0450,  0.1092,  0.1289,  0.0410,  0.1136,  0.0971, -0.1039,\n",
       "                       0.0513, -0.0319, -0.1107,  0.0795, -0.0757,  0.1478, -0.0746,  0.0969,\n",
       "                       0.1234, -0.0941,  0.0196, -0.0914, -0.0240,  0.0124, -0.0609,  0.0706,\n",
       "                       0.1198,  0.0936, -0.0010, -0.0775,  0.0605,  0.0715, -0.1265, -0.0501,\n",
       "                       0.0029, -0.0494,  0.0812, -0.0914, -0.0091,  0.1314, -0.1072,  0.0282,\n",
       "                       0.1327, -0.0852, -0.0971,  0.0302, -0.1029, -0.0488,  0.0004,  0.1103,\n",
       "                      -0.0475, -0.1069,  0.0570, -0.0062,  0.1428, -0.1022,  0.1649, -0.0237,\n",
       "                       0.0089,  0.0727,  0.0185,  0.1095,  0.0638, -0.0576, -0.0092,  0.0024,\n",
       "                      -0.0309, -0.0698,  0.0856,  0.1828, -0.1220, -0.0293,  0.0543, -0.0683,\n",
       "                      -0.1220,  0.0466,  0.1042, -0.1059, -0.0511,  0.1006,  0.0892,  0.0461,\n",
       "                       0.1319,  0.1082,  0.0747, -0.0752,  0.0167, -0.0334,  0.1071, -0.1242,\n",
       "                       0.1069, -0.0509, -0.0967,  0.0154,  0.0145,  0.0275,  0.0885, -0.1287,\n",
       "                      -0.1083,  0.1379,  0.1664,  0.1227, -0.0928, -0.0107,  0.1056,  0.0201,\n",
       "                       0.0622,  0.0702,  0.0418,  0.0591,  0.0211,  0.0777, -0.0733,  0.1473,\n",
       "                       0.0852, -0.0026,  0.0521, -0.1214, -0.0044,  0.0870,  0.1005,  0.1564,\n",
       "                       0.1009, -0.1329, -0.0494, -0.0162, -0.0785, -0.0935,  0.1416,  0.0628,\n",
       "                       0.0497,  0.1405, -0.0895, -0.1440, -0.0024, -0.0347, -0.0388, -0.0607,\n",
       "                      -0.0215,  0.1443, -0.0450,  0.0004,  0.0336,  0.0474,  0.1249,  0.0713,\n",
       "                      -0.0372,  0.1379,  0.0408,  0.1268,  0.0895,  0.1019, -0.0836,  0.0289,\n",
       "                       0.0375,  0.0780,  0.1030, -0.1007,  0.0552, -0.0435,  0.0160, -0.0657,\n",
       "                       0.1632,  0.0727,  0.1031, -0.0406,  0.0630,  0.0178,  0.1179,  0.0427,\n",
       "                      -0.0487,  0.0765,  0.0538,  0.1377,  0.0298,  0.0033,  0.0816,  0.0384,\n",
       "                       0.0476,  0.0574,  0.1225,  0.1290, -0.1159,  0.0150, -0.1311, -0.0491])),\n",
       "             ('fc2.weight',\n",
       "              tensor([[ 0.0841,  0.0424,  0.0958,  ..., -0.0185, -0.0185, -0.0420],\n",
       "                      [-0.0718,  0.0151, -0.0629,  ..., -0.0442, -0.0454,  0.0362],\n",
       "                      [-0.0478, -0.0606, -0.0812,  ..., -0.0329,  0.0707,  0.0408],\n",
       "                      ...,\n",
       "                      [ 0.0140,  0.0772,  0.0415,  ...,  0.0249,  0.0530,  0.0102],\n",
       "                      [-0.0205,  0.1074,  0.0025,  ...,  0.0251,  0.0233, -0.0077],\n",
       "                      [ 0.0016, -0.0590, -0.0237,  ..., -0.0922,  0.0270,  0.0400]])),\n",
       "             ('fc2.bias',\n",
       "              tensor([-0.0414, -0.0381,  0.0197,  0.0116,  0.0215,  0.0464, -0.0176, -0.0249,\n",
       "                      -0.0514,  0.0429, -0.0203, -0.0447, -0.0101,  0.0022, -0.0417,  0.0125,\n",
       "                       0.0642,  0.0057,  0.0090, -0.0127, -0.0365,  0.0541,  0.0395,  0.0159,\n",
       "                      -0.0145,  0.0357,  0.0169, -0.0281, -0.0520, -0.0269,  0.0013, -0.0144,\n",
       "                       0.0280,  0.0329, -0.0326, -0.0535,  0.0201, -0.0398,  0.0023, -0.0566,\n",
       "                      -0.0367,  0.0406, -0.0488,  0.0505, -0.0223,  0.0001,  0.0206,  0.0487,\n",
       "                       0.0265,  0.0441, -0.0424, -0.0451,  0.0675, -0.0181, -0.0027, -0.0001,\n",
       "                       0.0494,  0.0107, -0.0223,  0.0569,  0.0180, -0.0428,  0.0012, -0.0398,\n",
       "                      -0.0052, -0.0287, -0.0291, -0.0358, -0.0472,  0.0031,  0.0135, -0.0416,\n",
       "                      -0.0132,  0.0647, -0.0271, -0.0229,  0.0577, -0.0270, -0.0637, -0.0020,\n",
       "                       0.0302, -0.0456,  0.0035,  0.0304,  0.0071, -0.0400, -0.0078,  0.0492,\n",
       "                      -0.0104,  0.0040,  0.0432,  0.0570,  0.0554,  0.0420,  0.0581, -0.0622,\n",
       "                       0.0670,  0.0548,  0.0363,  0.0524,  0.0387, -0.0434,  0.0523,  0.0126,\n",
       "                      -0.0246, -0.0449,  0.0604, -0.0550, -0.0449,  0.0446,  0.0241,  0.0554,\n",
       "                       0.0087,  0.0275,  0.0201,  0.0450,  0.0359,  0.0054,  0.0420, -0.0304,\n",
       "                       0.0766,  0.0129, -0.0646, -0.0142, -0.0317,  0.0289,  0.0008,  0.0531,\n",
       "                      -0.0192, -0.0082,  0.0234, -0.0479,  0.0332,  0.0227,  0.0222,  0.0385,\n",
       "                      -0.0516, -0.0502, -0.0405,  0.0437,  0.0026, -0.0083, -0.0272,  0.0601,\n",
       "                       0.0589,  0.0352,  0.0108, -0.0346,  0.0201, -0.0188, -0.0668,  0.0297,\n",
       "                       0.0416,  0.0635,  0.0079,  0.0270, -0.0315, -0.0158, -0.0420,  0.0067,\n",
       "                      -0.0291,  0.0121, -0.0237,  0.0786,  0.0256,  0.0650,  0.0258, -0.0384,\n",
       "                      -0.0624,  0.0671,  0.0292,  0.0193,  0.0181, -0.0369, -0.0055, -0.0088,\n",
       "                       0.0003,  0.0035,  0.0279,  0.0645,  0.0301, -0.0170,  0.0281, -0.0262,\n",
       "                      -0.0097,  0.0128,  0.0661, -0.0139,  0.0594, -0.0519, -0.0234, -0.0035,\n",
       "                       0.0401, -0.0246, -0.0383,  0.0628, -0.0268,  0.0099,  0.0469, -0.0089,\n",
       "                      -0.0141,  0.0247,  0.0598,  0.0393, -0.0567,  0.0674,  0.0192,  0.0296,\n",
       "                       0.0375, -0.0092, -0.0263,  0.0583,  0.0242,  0.0199,  0.0688, -0.0151,\n",
       "                      -0.0232,  0.0492,  0.0563, -0.0385,  0.0516,  0.0465, -0.0623,  0.0274,\n",
       "                       0.0227,  0.0334, -0.0358, -0.0298, -0.0353,  0.0223, -0.0051,  0.0601,\n",
       "                       0.0284,  0.0625,  0.0096, -0.0497,  0.0438,  0.0177,  0.0485,  0.0021,\n",
       "                      -0.0303, -0.0267,  0.0037,  0.0602,  0.0263,  0.0187,  0.0518,  0.0189,\n",
       "                      -0.0319,  0.0401, -0.0316,  0.0357,  0.0347, -0.0493, -0.0089, -0.0372])),\n",
       "             ('fc3.weight',\n",
       "              tensor([[-0.0462,  0.0234,  0.0172, -0.0274,  0.0214,  0.0215,  0.0072,  0.0201,\n",
       "                       -0.0250,  0.0408,  0.0180, -0.0285, -0.0421, -0.0186,  0.0234, -0.0581,\n",
       "                       -0.0059, -0.0274, -0.0164, -0.0239, -0.0216,  0.0205,  0.0246, -0.0343,\n",
       "                       -0.0378, -0.0505, -0.0270,  0.0534, -0.0243,  0.0152, -0.0005,  0.0674,\n",
       "                       -0.0382,  0.0226,  0.0164,  0.0030, -0.0020, -0.0254, -0.0213, -0.0144,\n",
       "                       -0.0066,  0.0185, -0.0215,  0.0691,  0.0211,  0.0006, -0.0408,  0.0176,\n",
       "                        0.0346, -0.0276, -0.0141, -0.0285, -0.0300,  0.0196,  0.0589,  0.0379,\n",
       "                       -0.0301, -0.0254, -0.0291,  0.0239,  0.0170,  0.0667,  0.0045, -0.0337,\n",
       "                       -0.0264,  0.0052, -0.0417,  0.0104,  0.0084, -0.0142, -0.0193, -0.0155,\n",
       "                       -0.0688,  0.0217,  0.0257, -0.0430, -0.0158, -0.0079, -0.0160, -0.0516,\n",
       "                       -0.0772, -0.0206,  0.0077,  0.0147,  0.0142, -0.0471, -0.0356, -0.0029,\n",
       "                       -0.0403, -0.0178, -0.0352, -0.0250, -0.0741, -0.0075,  0.0127, -0.0317,\n",
       "                        0.0160,  0.0216,  0.0118, -0.0231,  0.0267,  0.0329, -0.0006, -0.0158,\n",
       "                       -0.0229, -0.0265,  0.0280, -0.0211, -0.0329,  0.0092, -0.0347,  0.0657,\n",
       "                        0.0670,  0.0163,  0.0256, -0.0321, -0.0261, -0.0591,  0.0317, -0.0097,\n",
       "                        0.0133,  0.0258, -0.0132, -0.0276, -0.0223, -0.0144, -0.0130,  0.0295,\n",
       "                       -0.0199, -0.0105,  0.0090, -0.0385,  0.0419, -0.0429, -0.0126,  0.0442,\n",
       "                       -0.0309,  0.0161, -0.0411, -0.0352,  0.0152,  0.0263, -0.0232, -0.0342,\n",
       "                        0.0215, -0.0192,  0.0295, -0.0158, -0.0254, -0.0190, -0.0061, -0.0126,\n",
       "                        0.0183,  0.0255, -0.0237, -0.0254, -0.0362,  0.0285, -0.0188, -0.0221,\n",
       "                       -0.0330,  0.0183, -0.0093,  0.0575,  0.0190, -0.0161,  0.0131, -0.0215,\n",
       "                       -0.0001, -0.0187, -0.0096,  0.0295,  0.0136, -0.0162,  0.0294, -0.0184,\n",
       "                       -0.0120, -0.0337, -0.0251, -0.0408,  0.0030, -0.0145, -0.0222, -0.0140,\n",
       "                        0.0211,  0.0204,  0.0242,  0.0397, -0.0340,  0.0546, -0.0285, -0.0272,\n",
       "                        0.0179, -0.0138,  0.0244,  0.0041,  0.0298, -0.0427,  0.0237, -0.0047,\n",
       "                       -0.0305, -0.0005,  0.0292,  0.0520, -0.0064,  0.0238, -0.0295, -0.0241,\n",
       "                        0.0063,  0.0087, -0.0256, -0.0293,  0.0125,  0.0205,  0.0185, -0.0341,\n",
       "                        0.0345, -0.0221,  0.0193,  0.0117, -0.0027, -0.0140, -0.0193, -0.0580,\n",
       "                       -0.0113, -0.0099,  0.0420,  0.0223,  0.0739, -0.0250,  0.0407, -0.0092,\n",
       "                        0.0204, -0.0348, -0.0371, -0.0357,  0.0571, -0.0204, -0.0145, -0.0345,\n",
       "                        0.0039, -0.0170, -0.0206, -0.0241,  0.0296, -0.0298,  0.0096,  0.0228,\n",
       "                        0.0162,  0.0168,  0.0188, -0.0089, -0.0327, -0.0371, -0.0332,  0.0261],\n",
       "                      [-0.0028, -0.0344, -0.0312, -0.0107, -0.0413, -0.0172,  0.0202, -0.0272,\n",
       "                        0.0240,  0.0043, -0.0306,  0.0139,  0.0300, -0.0175, -0.0360, -0.0085,\n",
       "                       -0.0331,  0.0401, -0.0341,  0.0314,  0.0015, -0.0352, -0.0319,  0.0411,\n",
       "                        0.0256,  0.0452,  0.0216,  0.0914, -0.0087, -0.0277,  0.0033, -0.0899,\n",
       "                        0.0082, -0.0330, -0.0317, -0.0664, -0.0341,  0.0170, -0.0163, -0.0241,\n",
       "                       -0.0328, -0.0229,  0.0357,  0.0351, -0.0172, -0.0462,  0.0277, -0.0287,\n",
       "                        0.0212,  0.0183,  0.0250,  0.0345,  0.0198, -0.0366,  0.1011,  0.0171,\n",
       "                        0.0214,  0.0285,  0.0571, -0.0458, -0.0371,  0.0858, -0.0532,  0.0058,\n",
       "                        0.0054, -0.0606,  0.0214, -0.0455, -0.0164, -0.0106, -0.0267,  0.0704,\n",
       "                       -0.0017, -0.0365, -0.0495,  0.0388,  0.0105,  0.0354,  0.0348,  0.0156,\n",
       "                       -0.0290,  0.0456,  0.0263,  0.0188, -0.0095, -0.0284,  0.0277, -0.0342,\n",
       "                        0.0289, -0.0196,  0.0237,  0.0177, -0.0035, -0.0261, -0.0393,  0.0207,\n",
       "                       -0.0198, -0.0281, -0.0334,  0.0154, -0.0511, -0.0296, -0.0411, -0.0188,\n",
       "                        0.0087,  0.0100, -0.0582,  0.0053,  0.0069,  0.0009,  0.0253, -0.0390,\n",
       "                        0.0768, -0.0272, -0.0585,  0.0145, -0.0007,  0.0260, -0.0477, -0.0347,\n",
       "                       -0.0148, -0.0260,  0.0264,  0.0120,  0.0297, -0.0221, -0.0257, -0.0329,\n",
       "                        0.0124, -0.0297, -0.0120,  0.0681, -0.0346,  0.0310,  0.0237, -0.0420,\n",
       "                        0.0340,  0.0048,  0.0327,  0.0164, -0.0126, -0.0656,  0.0003,  0.0338,\n",
       "                       -0.0131, -0.0491, -0.0067, -0.0325,  0.0208,  0.0125,  0.0242, -0.0386,\n",
       "                       -0.0216, -0.0271,  0.0275,  0.0209,  0.0070, -0.0404,  0.0027, -0.0330,\n",
       "                       -0.0033, -0.1244, -0.0017, -0.0676, -0.0362,  0.0002, -0.0137, -0.0045,\n",
       "                       -0.0424,  0.0032, -0.0169, -0.0444,  0.0226, -0.0684,  0.0032,  0.0421,\n",
       "                       -0.0376,  0.0128, -0.0094,  0.0307,  0.0256, -0.0048,  0.0221, -0.0126,\n",
       "                       -0.0271, -0.0195, -0.0219,  0.0108,  0.0112,  0.0954,  0.0481,  0.0293,\n",
       "                       -0.0380, -0.0280, -0.0409, -0.0550, -0.0276, -0.0007, -0.0412, -0.0413,\n",
       "                        0.0363, -0.0030, -0.0477, -0.0939, -0.0467, -0.0133,  0.0193,  0.0050,\n",
       "                        0.0307, -0.0139,  0.0046, -0.0223, -0.0411, -0.0073, -0.0875,  0.0171,\n",
       "                       -0.0360,  0.0446,  0.0606, -0.0491, -0.0174, -0.0250,  0.0051, -0.0425,\n",
       "                       -0.0038, -0.0332, -0.0245, -0.0187, -0.0676,  0.0136,  0.0902,  0.0392,\n",
       "                       -0.0388,  0.0242,  0.0227,  0.0202, -0.0911,  0.0053,  0.0276,  0.0406,\n",
       "                        0.0390,  0.0020, -0.0139, -0.0109, -0.0442,  0.0444,  0.0525, -0.0695,\n",
       "                       -0.0245, -0.0237, -0.0211, -0.0493,  0.0236,  0.0559,  0.0267, -0.0029]])),\n",
       "             ('fc3.bias', tensor([0.0337, 0.0266]))])"
      ]
     },
     "execution_count": 3,
     "metadata": {},
     "output_type": "execute_result"
    }
   ],
   "source": [
    "torch.load('checkpoint.pth', agent.actor_local.state_dict())"
   ]
  },
  {
   "cell_type": "code",
   "execution_count": 4,
   "metadata": {},
   "outputs": [
    {
     "name": "stdout",
     "output_type": "stream",
     "text": [
      "Requirement already satisfied: matplotlib in /Users/alonderee/miniconda3/lib/python3.6/site-packages (3.0.2)\n",
      "Requirement already satisfied: numpy>=1.10.0 in /Users/alonderee/miniconda3/lib/python3.6/site-packages (from matplotlib) (1.15.2)\n",
      "Requirement already satisfied: python-dateutil>=2.1 in /Users/alonderee/miniconda3/lib/python3.6/site-packages (from matplotlib) (2.7.3)\n",
      "Requirement already satisfied: cycler>=0.10 in /Users/alonderee/miniconda3/lib/python3.6/site-packages (from matplotlib) (0.10.0)\n",
      "Requirement already satisfied: pyparsing!=2.0.4,!=2.1.2,!=2.1.6,>=2.0.1 in /Users/alonderee/miniconda3/lib/python3.6/site-packages (from matplotlib) (2.2.2)\n",
      "Requirement already satisfied: kiwisolver>=1.0.1 in /Users/alonderee/miniconda3/lib/python3.6/site-packages (from matplotlib) (1.0.1)\n",
      "Requirement already satisfied: six>=1.5 in /Users/alonderee/miniconda3/lib/python3.6/site-packages (from python-dateutil>=2.1->matplotlib) (1.11.0)\n",
      "Requirement already satisfied: setuptools in /Users/alonderee/miniconda3/lib/python3.6/site-packages (from kiwisolver>=1.0.1->matplotlib) (39.1.0)\n",
      "\u001b[33mYou are using pip version 18.0, however version 18.1 is available.\n",
      "You should consider upgrading via the 'pip install --upgrade pip' command.\u001b[0m\n"
     ]
    }
   ],
   "source": [
    "!pip install matplotlib"
   ]
  },
  {
   "cell_type": "code",
   "execution_count": 5,
   "metadata": {},
   "outputs": [
    {
     "data": {
      "image/png": "[encoded data removed]",
      "text/plain": [
       "<Figure size 432x288 with 1 Axes>"
      ]
     },
     "metadata": {
      "needs_background": "light"
     },
     "output_type": "display_data"
    }
   ],
   "source": [
    "import matplotlib.pyplot as plt\n",
    "%matplotlib inline\n",
    "\n",
    "\n",
    "plt.ion()\n",
    "\n",
    "# plot the scores\n",
    "fig = plt.figure()\n",
    "ax = fig.add_subplot(111)\n",
    "plt.plot(np.arange(len(scores)), scores)\n",
    "plt.ylabel('Score')\n",
    "plt.xlabel('Episode #')\n",
    "plt.show()"
   ]
  },
  {
   "cell_type": "markdown",
   "metadata": {},
   "source": [
    "## Result\n",
    "\n",
    "The agent was tested and acheived a score of 2.650000039488077"
   ]
  },
  {
   "cell_type": "code",
   "execution_count": 8,
   "metadata": {},
   "outputs": [
    {
     "name": "stdout",
     "output_type": "stream",
     "text": [
      "Total score (averaged over agents) this episode: 2.650000039488077\n"
     ]
    }
   ],
   "source": [
    "env_info = env.reset(train_mode=False)[brain_name]     # reset the environment    \n",
    "states = env_info.vector_observations                  # get the current state (for each agent)\n",
    "states = np.concatenate([states, states[::-1]], 1)\n",
    "scores = np.zeros(num_agents)                          # initialize the score (for each agent)\n",
    "while True:\n",
    "    actions = agent.act(states) # select an action (for each agent)\n",
    "    env_info = env.step(actions)[brain_name]           # send all actions to tne environment\n",
    "    next_states = env_info.vector_observations         # get next state (for each agent)\n",
    "    next_states = np.concatenate([next_states, next_states[::-1]], 1)\n",
    "    rewards = env_info.rewards                         # get reward (for each agent)\n",
    "    dones = env_info.local_done                        # see if episode finished\n",
    "    scores += env_info.rewards                         # update the score (for each agent)\n",
    "    states = next_states                               # roll over states to next time step\n",
    "    if np.any(dones):                                  # exit loop if episode finished\n",
    "        break\n",
    "print('Total score (averaged over agents) this episode: {}'.format(np.mean(scores)))"
   ]
  },
  {
   "cell_type": "markdown",
   "metadata": {},
   "source": [
    "## Future Improvements\n",
    "\n",
    "Potential improvements include adding stochastisity to the models for capturing uncertainty, using random network distilation to improve its early exploration, and adding shared weights for featurization of the state."
   ]
  },
  {
   "cell_type": "code",
   "execution_count": null,
   "metadata": {},
   "outputs": [],
   "source": []
  }
 ],
 "metadata": {
  "kernelspec": {
   "display_name": "Python 3",
   "language": "python",
   "name": "python3"
  },
  "language_info": {
   "codemirror_mode": {
    "name": "ipython",
    "version": 3
   },
   "file_extension": ".py",
   "mimetype": "text/x-python",
   "name": "python",
   "nbconvert_exporter": "python",
   "pygments_lexer": "ipython3",
   "version": "3.6.5"
  }
 },
 "nbformat": 4,
 "nbformat_minor": 2
}
